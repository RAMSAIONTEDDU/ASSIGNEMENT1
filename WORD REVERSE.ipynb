{
 "cells": [
  {
   "cell_type": "code",
   "execution_count": 18,
   "id": "be62c806",
   "metadata": {},
   "outputs": [
    {
     "name": "stdout",
     "output_type": "stream",
     "text": [
      "madhu\n",
      "uhdam\n"
     ]
    }
   ],
   "source": [
    "word=input()\n",
    "word_list=[]\n",
    "REVERSE=\"\"\n",
    "for i in word:\n",
    "    word_list.append(i)\n",
    "\n",
    "word_list.reverse()\n",
    "for i in word_list:\n",
    "    REVERSE=REVERSE+str(i)\n",
    "print(REVERSE)\n"
   ]
  },
  {
   "cell_type": "code",
   "execution_count": null,
   "id": "22a75cc0",
   "metadata": {},
   "outputs": [],
   "source": []
  }
 ],
 "metadata": {
  "kernelspec": {
   "display_name": "Python 3 (ipykernel)",
   "language": "python",
   "name": "python3"
  },
  "language_info": {
   "codemirror_mode": {
    "name": "ipython",
    "version": 3
   },
   "file_extension": ".py",
   "mimetype": "text/x-python",
   "name": "python",
   "nbconvert_exporter": "python",
   "pygments_lexer": "ipython3",
   "version": "3.10.2"
  }
 },
 "nbformat": 4,
 "nbformat_minor": 5
}
