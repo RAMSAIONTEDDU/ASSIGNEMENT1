{
 "cells": [
  {
   "cell_type": "code",
   "execution_count": 9,
   "id": "95cc06a4",
   "metadata": {},
   "outputs": [
    {
     "name": "stdout",
     "output_type": "stream",
     "text": [
      "0\n",
      "50\n",
      "0\n",
      "1\n",
      "1\n",
      "2\n",
      "3\n",
      "5\n",
      "8\n",
      "13\n",
      "21\n",
      "34\n"
     ]
    }
   ],
   "source": [
    "n1=int(input())\n",
    "n2=int(input())\n",
    "a=0\n",
    "b=1\n",
    "c=0\n",
    "\n",
    "if n1==0:\n",
    "    print(a)\n",
    "    print(b)\n",
    "if n1==1:\n",
    "    print(b)\n",
    "while c<n2:\n",
    "    c=a+b\n",
    "    if c<n2+1:\n",
    "        if c>n1-1:\n",
    "            print(c)\n",
    "    \n",
    "    a=b\n",
    "    b=c\n"
   ]
  },
  {
   "cell_type": "code",
   "execution_count": null,
   "id": "abb9b3d9",
   "metadata": {},
   "outputs": [],
   "source": []
  }
 ],
 "metadata": {
  "kernelspec": {
   "display_name": "Python 3 (ipykernel)",
   "language": "python",
   "name": "python3"
  },
  "language_info": {
   "codemirror_mode": {
    "name": "ipython",
    "version": 3
   },
   "file_extension": ".py",
   "mimetype": "text/x-python",
   "name": "python",
   "nbconvert_exporter": "python",
   "pygments_lexer": "ipython3",
   "version": "3.10.2"
  }
 },
 "nbformat": 4,
 "nbformat_minor": 5
}
