{
 "cells": [
  {
   "cell_type": "code",
   "execution_count": 4,
   "id": "6ddacd3a",
   "metadata": {},
   "outputs": [
    {
     "name": "stdout",
     "output_type": "stream",
     "text": [
      "[(2, 1), (1, 2), (2, 3), (4, 4), (2, 5)]\n"
     ]
    }
   ],
   "source": [
    "a=[(2, 5), (1, 2), (4, 4), (2, 3), (2, 1)]\n",
    "b=[]\n",
    "c=[]\n",
    "for i in a:\n",
    "    b.append(i[-1])\n",
    "b.sort()\n",
    "for i in b:\n",
    "    for j in a:\n",
    "        if i==j[-1]:\n",
    "            if j not in c:\n",
    "                c.append(j)\n",
    "                break\n",
    "print(c)\n",
    "\n"
   ]
  },
  {
   "cell_type": "code",
   "execution_count": null,
   "id": "fc7316d3",
   "metadata": {},
   "outputs": [],
   "source": []
  }
 ],
 "metadata": {
  "kernelspec": {
   "display_name": "Python 3 (ipykernel)",
   "language": "python",
   "name": "python3"
  },
  "language_info": {
   "codemirror_mode": {
    "name": "ipython",
    "version": 3
   },
   "file_extension": ".py",
   "mimetype": "text/x-python",
   "name": "python",
   "nbconvert_exporter": "python",
   "pygments_lexer": "ipython3",
   "version": "3.10.2"
  }
 },
 "nbformat": 4,
 "nbformat_minor": 5
}
