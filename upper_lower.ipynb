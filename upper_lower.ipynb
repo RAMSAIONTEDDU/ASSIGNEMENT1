{
 "cells": [
  {
   "cell_type": "code",
   "execution_count": 3,
   "id": "d9ff71be",
   "metadata": {},
   "outputs": [
    {
     "name": "stdout",
     "output_type": "stream",
     "text": [
      "The quick Brow Fox\n",
      "No. of Upper case characters :  3\n",
      "No. of Lower case characters :  12\n"
     ]
    }
   ],
   "source": [
    "def string(s):\n",
    "    d={\"Upper_Case\":0,\"Lower_Case\":0}\n",
    "    for char in s:\n",
    "        if char.isupper():\n",
    "            d[\"Upper_Case\"]+=1\n",
    "        if char.islower():\n",
    "            d[\"Lower_Case\"]+=1\n",
    "    print(\"No. of Upper case characters : \",d[\"Upper_Case\"])\n",
    "    print(\"No. of Lower case characters : \",d[\"Lower_Case\"])\n",
    "str=input()\n",
    "string(str)\n"
   ]
  },
  {
   "cell_type": "code",
   "execution_count": null,
   "id": "8eaa9aa9",
   "metadata": {},
   "outputs": [],
   "source": []
  }
 ],
 "metadata": {
  "kernelspec": {
   "display_name": "Python 3 (ipykernel)",
   "language": "python",
   "name": "python3"
  },
  "language_info": {
   "codemirror_mode": {
    "name": "ipython",
    "version": 3
   },
   "file_extension": ".py",
   "mimetype": "text/x-python",
   "name": "python",
   "nbconvert_exporter": "python",
   "pygments_lexer": "ipython3",
   "version": "3.10.2"
  }
 },
 "nbformat": 4,
 "nbformat_minor": 5
}
