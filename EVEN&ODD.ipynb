{
 "cells": [
  {
   "cell_type": "code",
   "execution_count": 22,
   "id": "f3b1e3a1",
   "metadata": {},
   "outputs": [
    {
     "name": "stdout",
     "output_type": "stream",
     "text": [
      "1,2,3\n",
      "Number of even numbers: 1\n",
      "Number of odd numbers: 2\n"
     ]
    }
   ],
   "source": [
    "numbers=(input())\n",
    "\n",
    "numbers_list=numbers.split(\",\")\n",
    "\n",
    "Even_count=0\n",
    "Odd_count=0\n",
    "for i in numbers_list:\n",
    "    x=int(i)\n",
    "    if(x%2)==0:\n",
    "        Even_count+=1\n",
    "    else:\n",
    "        Odd_count+=1\n",
    "print(\"Number of even numbers:\",Even_count)\n",
    "print(\"Number of odd numbers:\",Odd_count)\n",
    "    \n",
    "    \n"
   ]
  },
  {
   "cell_type": "code",
   "execution_count": 13,
   "id": "f1ada857",
   "metadata": {},
   "outputs": [
    {
     "name": "stdout",
     "output_type": "stream",
     "text": [
      "0\n"
     ]
    }
   ],
   "source": []
  },
  {
   "cell_type": "code",
   "execution_count": null,
   "id": "7d9fe81a",
   "metadata": {},
   "outputs": [],
   "source": []
  }
 ],
 "metadata": {
  "kernelspec": {
   "display_name": "Python 3 (ipykernel)",
   "language": "python",
   "name": "python3"
  },
  "language_info": {
   "codemirror_mode": {
    "name": "ipython",
    "version": 3
   },
   "file_extension": ".py",
   "mimetype": "text/x-python",
   "name": "python",
   "nbconvert_exporter": "python",
   "pygments_lexer": "ipython3",
   "version": "3.10.2"
  }
 },
 "nbformat": 4,
 "nbformat_minor": 5
}
