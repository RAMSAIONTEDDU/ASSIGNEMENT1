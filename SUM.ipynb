{
 "cells": [
  {
   "cell_type": "code",
   "execution_count": 8,
   "id": "84a57c0d",
   "metadata": {},
   "outputs": [
    {
     "name": "stdout",
     "output_type": "stream",
     "text": [
      "Enter No.Of elements a list: 5\n",
      "element :8\n",
      "element :2\n",
      "element :3\n",
      "element :0\n",
      "element :7\n",
      "20\n"
     ]
    }
   ],
   "source": [
    "list = []\n",
    "n = int(input(\"Enter No.Of elements a list: \"))\n",
    "for i in range(0,n):\n",
    "    element = int(input(\"element :\"))\n",
    "    list.append(element)\n",
    "def ADD(numbers):\n",
    "    total = 0\n",
    "    for i in numbers:\n",
    "        total += i\n",
    "    return total\n",
    "\n",
    "print(ADD(list))\n",
    "\n"
   ]
  },
  {
   "cell_type": "code",
   "execution_count": null,
   "id": "cbeb1db4",
   "metadata": {},
   "outputs": [],
   "source": []
  }
 ],
 "metadata": {
  "kernelspec": {
   "display_name": "Python 3 (ipykernel)",
   "language": "python",
   "name": "python3"
  },
  "language_info": {
   "codemirror_mode": {
    "name": "ipython",
    "version": 3
   },
   "file_extension": ".py",
   "mimetype": "text/x-python",
   "name": "python",
   "nbconvert_exporter": "python",
   "pygments_lexer": "ipython3",
   "version": "3.10.2"
  }
 },
 "nbformat": 4,
 "nbformat_minor": 5
}
